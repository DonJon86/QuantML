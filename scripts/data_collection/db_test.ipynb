{
 "cells": [
  {
   "cell_type": "code",
   "execution_count": 1,
   "id": "c855e290",
   "metadata": {},
   "outputs": [
    {
     "name": "stdout",
     "output_type": "stream",
     "text": [
      "Requirement already satisfied: SQLAlchemy in c:\\users\\gacoka\\.conda\\envs\\quantml\\lib\\site-packages (1.3.24)\n"
     ]
    }
   ],
   "source": [
    "# !pip install SQLAlchemy"
   ]
  },
  {
   "cell_type": "code",
   "execution_count": 1,
   "id": "89ccc569",
   "metadata": {},
   "outputs": [],
   "source": [
    "from datetime import date\n",
    "\n",
    "from sqlalchemy import create_engine\n",
    "from sqlalchemy.orm import sessionmaker\n",
    "from sqlalchemy import Column, String, Integer, Date\n",
    "from sqlalchemy.ext.declarative import declarative_base\n",
    "\n",
    "database = 'd2jntg4vn7od1r'\n",
    "user = 'zknwydkvdvmdau'\n",
    "port = '5432'\n",
    "host = 'ec2-3-231-254-204.compute-1.amazonaws.com'\n",
    "password = 'c6bd6b7d945e6dc0375f2b0f58043ad3709aa6cbb076e6ddc58673ac86340c20'\n",
    "\n",
    "db_string = \"postgres+psycopg2://{}:{}@{}:{}/{}\".format(user, password, host, port, database)\n",
    "\n",
    "Base = declarative_base()\n",
    "\n",
    "class Movie(Base):\n",
    "    __tablename__ = 'movies'\n",
    "\n",
    "    id = Column(Integer, primary_key=True)\n",
    "    title = Column(String)\n",
    "    release_date = Column(Date)\n",
    "\n",
    "    def __init__(self, title, release_date):\n",
    "        self.title = title\n",
    "        self.release_date = release_date\n",
    "        \n",
    "def recreate_database(engine):\n",
    "    Base.metadata.drop_all(engine)\n",
    "    Base.metadata.create_all(engine)\n",
    "\n",
    "engine = create_engine(db_string)\n",
    "recreate_database(engine)\n",
    "\n",
    "Session = sessionmaker(bind=engine)\n",
    "session = Session()\n",
    "\n",
    "bourne_identity = Movie(\"The Bourne Identity\", date(2002, 10, 11))\n",
    "furious_7 = Movie(\"Furious 7\", date(2015, 4, 2))\n",
    "session.add(bourne_identity)\n",
    "session.add(furious_7)\n",
    "session.commit()\n",
    "session.close()"
   ]
  },
  {
   "cell_type": "code",
   "execution_count": 2,
   "id": "8abca316",
   "metadata": {},
   "outputs": [
    {
     "name": "stdout",
     "output_type": "stream",
     "text": [
      "The Bourne Identity\n",
      "Furious 7\n",
      "\n",
      "['movies']\n"
     ]
    }
   ],
   "source": [
    "import sqlalchemy\n",
    "\n",
    "movies = session.query(Movie).all()\n",
    "tables = engine.table_names()\n",
    "\n",
    "for movie in movies:\n",
    "    print(movie.title)\n",
    "print('')\n",
    "print(tables)"
   ]
  },
  {
   "cell_type": "code",
   "execution_count": null,
   "id": "eaa692d4",
   "metadata": {},
   "outputs": [],
   "source": []
  }
 ],
 "metadata": {
  "kernelspec": {
   "display_name": "Python 3 (ipykernel)",
   "language": "python",
   "name": "python3"
  },
  "language_info": {
   "codemirror_mode": {
    "name": "ipython",
    "version": 3
   },
   "file_extension": ".py",
   "mimetype": "text/x-python",
   "name": "python",
   "nbconvert_exporter": "python",
   "pygments_lexer": "ipython3",
   "version": "3.8.13"
  }
 },
 "nbformat": 4,
 "nbformat_minor": 5
}
